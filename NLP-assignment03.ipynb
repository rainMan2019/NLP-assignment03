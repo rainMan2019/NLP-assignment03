{
 "cells": [
  {
   "cell_type": "markdown",
   "metadata": {},
   "source": [
    "# NLP第三次作业"
   ]
  },
  {
   "cell_type": "markdown",
   "metadata": {},
   "source": [
    "# Part-1: 旅行家问题"
   ]
  },
  {
   "cell_type": "code",
   "execution_count": 1,
   "metadata": {},
   "outputs": [],
   "source": [
    "import matplotlib.pylab as plt\n",
    "import random"
   ]
  },
  {
   "cell_type": "code",
   "execution_count": 6,
   "metadata": {},
   "outputs": [
    {
     "data": {
      "text/plain": [
       "<matplotlib.collections.PathCollection at 0x25ecd9e18d0>"
      ]
     },
     "execution_count": 6,
     "metadata": {},
     "output_type": "execute_result"
    },
    {
     "data": {
      "image/png": "[encoded data removed]",
      "text/plain": [
       "<Figure size 432x288 with 1 Axes>"
      ]
     },
     "metadata": {
      "needs_background": "light"
     },
     "output_type": "display_data"
    }
   ],
   "source": [
    "# 随机生成20个点\n",
    "latitudes = [random.randint(-100, 100) for _ in range(20)]\n",
    "longitude = [random.randint(-100, 100) for _ in range(20)]\n",
    "chosen_p = (-50, 10) # 起点\n",
    "plt.scatter(latitudes, longitude)\n",
    "plt.scatter([chosen_p[0]], [chosen_p[1]], color='r')"
   ]
  },
  {
   "cell_type": "code",
   "execution_count": 7,
   "metadata": {},
   "outputs": [],
   "source": [
    "import pandas as pd\n",
    "import numpy as np\n",
    "import math\n",
    "import time"
   ]
  },
  {
   "cell_type": "code",
   "execution_count": 9,
   "metadata": {},
   "outputs": [],
   "source": [
    "point_list = [(x,y) for x,y in zip(latitudes,longitude)]"
   ]
  },
  {
   "cell_type": "code",
   "execution_count": 11,
   "metadata": {},
   "outputs": [],
   "source": [
    "point_list.insert(0,chosen_p) # 0是插入到最开头位置"
   ]
  },
  {
   "cell_type": "code",
   "execution_count": 25,
   "metadata": {},
   "outputs": [],
   "source": [
    "# point_list  # 元组"
   ]
  },
  {
   "cell_type": "code",
   "execution_count": 13,
   "metadata": {},
   "outputs": [],
   "source": [
    "point_array = np.array(point_list)"
   ]
  },
  {
   "cell_type": "code",
   "execution_count": 45,
   "metadata": {},
   "outputs": [
    {
     "data": {
      "text/plain": [
       "array([[-50,  10],\n",
       "       [ 35, -96],\n",
       "       [-39,   5],\n",
       "       [-56,  86],\n",
       "       [  6,  82],\n",
       "       [-45, -31],\n",
       "       [-61, -71],\n",
       "       [ 90, -61],\n",
       "       [ -8, -56],\n",
       "       [-17,  70],\n",
       "       [ 81,  34],\n",
       "       [-30, -85],\n",
       "       [ 31, -29],\n",
       "       [-76,  63],\n",
       "       [ 67, -59],\n",
       "       [-65,  -4],\n",
       "       [ 93, -37],\n",
       "       [ 59,  14],\n",
       "       [ 75,   2],\n",
       "       [-69, -43],\n",
       "       [ 95, -12]])"
      ]
     },
     "execution_count": 45,
     "metadata": {},
     "output_type": "execute_result"
    }
   ],
   "source": [
    "point_array  #二维数组"
   ]
  },
  {
   "cell_type": "code",
   "execution_count": 31,
   "metadata": {},
   "outputs": [],
   "source": [
    "dist = np.zeros((point_array.shape[0],point_array.shape[0]))"
   ]
  },
  {
   "cell_type": "code",
   "execution_count": 46,
   "metadata": {},
   "outputs": [],
   "source": [
    "for i in range(point_array.shape[0]):  # 计算所有城市之间的距离\n",
    "    for j in range(point_array.shape[0]):\n",
    "        dist[i, j] = math.sqrt(np.sum((point_array[i, :] - point_array[j, :]) ** 2))"
   ]
  },
  {
   "cell_type": "markdown",
   "metadata": {},
   "source": [
    "# 解释\n",
    "- N:计数\n",
    "- s:二进制表示，遍历过得城市对应位为0，未遍历为1\n",
    "- dp:动态规划的距离数组\n",
    "- dist：目的地间距离矩阵\n",
    "- sumpath:目前的最小路径总长度\n",
    "- Dtemp：当前最小距离\n",
    "- path:记录下一个应该到达的城市"
   ]
  },
  {
   "cell_type": "code",
   "execution_count": 50,
   "metadata": {},
   "outputs": [],
   "source": [
    "N = point_array.shape[0]  # 城市的数量"
   ]
  },
  {
   "cell_type": "code",
   "execution_count": 57,
   "metadata": {},
   "outputs": [],
   "source": [
    "path = np.ones((2 ** N - 1, N), dtype = np.int)   # 开了一个超大的数组, 2^21 * 21 的数组"
   ]
  },
  {
   "cell_type": "code",
   "execution_count": 59,
   "metadata": {},
   "outputs": [],
   "source": [
    "dp = np.ones((2 ** N - 1, N)) * -1"
   ]
  },
  {
   "cell_type": "markdown",
   "metadata": {},
   "source": [
    "# 递推关系\n",
    "\n",
    "T(s, init) = min{T(s-i, i) + dist[i][init]}\n",
    "\n",
    "T(s,init)代表的意思是从init点出发经过s中全部的点回到0的距离。dist是distance的缩写"
   ]
  },
  {
   "cell_type": "code",
   "execution_count": 65,
   "metadata": {},
   "outputs": [],
   "source": [
    "def TSP(s, init):  # 实现以上递推关系\n",
    "    if dp[s][init] != -1: return dp[s][init] \n",
    "    \n",
    "    if s == 0: return dist[0][init]  #  到达叶子节点了,最后一个城市到出发点的距离\n",
    "    \n",
    "    sumpath = float('inf')\n",
    "    \n",
    "    for i in range(N):\n",
    "        if s & (1 << i): # 判断是否遍历过城市i\n",
    "            m = TSP(s & (~ (1 << i)) ,i) +  dist[i][init]\n",
    "            if m < sumpath: # 更新更短路径\n",
    "                sumpath = m\n",
    "                path[s][init] = i\n",
    "    dp[s][init] = sumpath\n",
    "    return dp[s][init]"
   ]
  },
  {
   "cell_type": "code",
   "execution_count": 72,
   "metadata": {},
   "outputs": [
    {
     "name": "stdout",
     "output_type": "stream",
     "text": [
      "0b0\n",
      "0b10\n",
      "0b110\n",
      "0b1110\n",
      "0b11110\n",
      "0b111110\n",
      "0b1111110\n",
      "0b11111110\n",
      "0b111111110\n",
      "0b1111111110\n",
      "0b11111111110\n",
      "0b111111111110\n",
      "0b1111111111110\n",
      "0b11111111111110\n",
      "0b111111111111110\n",
      "0b1111111111111110\n",
      "0b11111111111111110\n",
      "0b111111111111111110\n",
      "0b1111111111111111110\n",
      "0b11111111111111111110\n"
     ]
    }
   ],
   "source": [
    "init_point = 0\n",
    "s = 0\n",
    "\n",
    "for i in range(1,N):\n",
    "    print(bin(s))\n",
    "    s = s | (1<<i)"
   ]
  },
  {
   "cell_type": "code",
   "execution_count": 73,
   "metadata": {},
   "outputs": [],
   "source": [
    "start = time.time()\n",
    "distance = TSP(s, init_point)\n",
    "end = time.time()"
   ]
  },
  {
   "cell_type": "code",
   "execution_count": 74,
   "metadata": {},
   "outputs": [
    {
     "name": "stdout",
     "output_type": "stream",
     "text": [
      "756.1912734008238\n"
     ]
    }
   ],
   "source": [
    "for i in range(1, N):\n",
    "    s = s|(1<<i)\n",
    "init = 0\n",
    "num = 0\n",
    "print(distance)\n",
    "route = [chosen_p]"
   ]
  },
  {
   "cell_type": "code",
   "execution_count": 76,
   "metadata": {},
   "outputs": [
    {
     "name": "stdout",
     "output_type": "stream",
     "text": [
      "13\n",
      "3\n",
      "9\n",
      "4\n",
      "10\n",
      "17\n",
      "18\n",
      "20\n",
      "16\n",
      "7\n",
      "14\n",
      "1\n",
      "12\n",
      "8\n",
      "11\n",
      "6\n",
      "19\n",
      "5\n",
      "15\n",
      "2\n",
      "程序的运行时间是：540.9201259613037\n"
     ]
    }
   ],
   "source": [
    "while True:\n",
    "    print(path[s][init])\n",
    "    init = path[s][init]\n",
    "    route.append(point_list[init])\n",
    "    s = s & (~ (1 << init))\n",
    "    num += 1\n",
    "    if num > N-2: break\n",
    "\n",
    "print(\"程序的运行时间是：%s\" %(end-start))"
   ]
  },
  {
   "cell_type": "code",
   "execution_count": 77,
   "metadata": {},
   "outputs": [
    {
     "data": {
      "text/plain": [
       "[<matplotlib.lines.Line2D at 0x25eceacf4e0>]"
      ]
     },
     "execution_count": 77,
     "metadata": {},
     "output_type": "execute_result"
    },
    {
     "name": "stderr",
     "output_type": "stream",
     "text": [
      "C:\\Users\\DELL\\Anaconda3\\lib\\site-packages\\matplotlib\\backends\\backend_agg.py:211: RuntimeWarning: Glyph 8722 missing from current font.\n",
      "  font.set_text(s, 0.0, flags=flags)\n",
      "C:\\Users\\DELL\\Anaconda3\\lib\\site-packages\\matplotlib\\backends\\backend_agg.py:180: RuntimeWarning: Glyph 8722 missing from current font.\n",
      "  font.set_text(s, 0, flags=flags)\n"
     ]
    },
    {
     "data": {
      "image/png": "[encoded data removed]",
      "text/plain": [
       "<Figure size 432x288 with 1 Axes>"
      ]
     },
     "metadata": {
      "needs_background": "light"
     },
     "output_type": "display_data"
    }
   ],
   "source": [
    "route.append(chosen_p)\n",
    "plt.scatter(latitudes, longitude)\n",
    "plt.scatter([chosen_p[0]], [chosen_p[1]], color='r')\n",
    "x = [point[0] for point in route]\n",
    "y = [point[1] for point in route]\n",
    "plt.plot(x, y, color='black')"
   ]
  },
  {
   "cell_type": "code",
   "execution_count": null,
   "metadata": {},
   "outputs": [],
   "source": []
  },
  {
   "cell_type": "code",
   "execution_count": null,
   "metadata": {},
   "outputs": [],
   "source": []
  },
  {
   "cell_type": "markdown",
   "metadata": {},
   "source": [
    "# Part 2 ：梯度下降\n",
    "change loss function from $loss = \\frac{1}{n}\\sum{(y_i - (\\hat y_i))^2}$  to $loss = \\frac{1}{n}\\sum{|y_i - \\hat{y_i}|}$, and using your mathmatical knowledge to get the right partial formual. Implemen the gradient descent code"
   ]
  },
  {
   "cell_type": "code",
   "execution_count": 1,
   "metadata": {},
   "outputs": [],
   "source": [
    "from sklearn.datasets import load_boston  # 波士顿房价的数据集"
   ]
  },
  {
   "cell_type": "code",
   "execution_count": 2,
   "metadata": {},
   "outputs": [],
   "source": [
    "data = load_boston()"
   ]
  },
  {
   "cell_type": "code",
   "execution_count": 3,
   "metadata": {},
   "outputs": [],
   "source": [
    "X, y = data['data'], data['target']   # X是输入值，比如犯罪率，房子面积等等，y为输出，为房子的价格"
   ]
  },
  {
   "cell_type": "code",
   "execution_count": 4,
   "metadata": {},
   "outputs": [],
   "source": [
    "%matplotlib inline"
   ]
  },
  {
   "cell_type": "code",
   "execution_count": 5,
   "metadata": {},
   "outputs": [],
   "source": [
    "import matplotlib.pyplot as plt\n",
    "import random"
   ]
  },
  {
   "cell_type": "code",
   "execution_count": 6,
   "metadata": {},
   "outputs": [],
   "source": [
    "def draw_rm_and_price():  # X只取出5列的数据，y是实际的房价\n",
    "    plt.scatter(X[:, 5], y)"
   ]
  },
  {
   "cell_type": "code",
   "execution_count": 7,
   "metadata": {},
   "outputs": [
    {
     "data": {
      "image/png": "[encoded data removed]",
      "text/plain": [
       "<Figure size 432x288 with 1 Axes>"
      ]
     },
     "metadata": {
      "needs_background": "light"
     },
     "output_type": "display_data"
    }
   ],
   "source": [
    "draw_rm_and_price()"
   ]
  },
  {
   "cell_type": "code",
   "execution_count": 9,
   "metadata": {},
   "outputs": [],
   "source": [
    "def price(rm, k, b):  # 预测价格\n",
    "    \"\"\"f(x) = k * x + b\"\"\"\n",
    "    return k * rm + b"
   ]
  },
  {
   "cell_type": "markdown",
   "metadata": {},
   "source": [
    "#### $loss = \\frac{1}{n}\\sum{|y_i - \\hat{y_i}|}$"
   ]
  },
  {
   "cell_type": "code",
   "execution_count": 11,
   "metadata": {},
   "outputs": [],
   "source": [
    "def loss2(y, y_hat): # to evaluate the performance \n",
    "    return sum(abs(y_i - y_hat_i) for y_i, y_hat_i in zip(list(y), list(y_hat))) / len(list(y))"
   ]
  },
  {
   "cell_type": "code",
   "execution_count": 14,
   "metadata": {},
   "outputs": [],
   "source": [
    "def partial_k(x, y, y_hat):  # 如上图所示，loss对k求导数\n",
    "    n = len(y)\n",
    "    gradient = 0\n",
    "    \n",
    "    for x_i, y_i, y_hat_i in zip(list(x), list(y), list(y_hat)):\n",
    "        if y_i > y_hat_i:\n",
    "            gradient -=  x_i\n",
    "        else: \n",
    "            gradient +=  x_i\n",
    "    \n",
    "    return gradient / n\n",
    "\n",
    "\n",
    "def partial_b(x, y, y_hat): # 如上图所示，loss对b求导数\n",
    "    n = len(y)\n",
    "    gradient = 0\n",
    "    \n",
    "    for y_i, y_hat_i in zip(list(y), list(y_hat)):\n",
    "        if y_i > y_hat_i:\n",
    "            gradient -= 1\n",
    "        else: \n",
    "            gradient +=  1\n",
    "    return gradient / n"
   ]
  },
  {
   "cell_type": "code",
   "execution_count": 17,
   "metadata": {},
   "outputs": [],
   "source": [
    "best_k, best_b = None, None\n",
    "X_rm = X[:, 5]"
   ]
  },
  {
   "cell_type": "code",
   "execution_count": 22,
   "metadata": {},
   "outputs": [
    {
     "name": "stdout",
     "output_type": "stream",
     "text": [
      "When time is : 0, get best_k: -51.88431586795055 best_b: -70.05742678256428, and the loss is: 177155.80651784452\n",
      "When time is : 50, get best_k: -48.74199867427471 best_b: -69.55742678256402, and the loss is: 160427.33829422333\n",
      "When time is : 100, get best_k: -45.599681480598875 best_b: -69.05742678256377, and the loss is: 144528.58846645596\n",
      "When time is : 150, get best_k: -42.45736428692304 best_b: -68.55742678256351, and the loss is: 129459.5570345431\n",
      "When time is : 200, get best_k: -39.3150470932472 best_b: -68.05742678256325, and the loss is: 115220.24399848442\n",
      "When time is : 250, get best_k: -36.172729899571365 best_b: -67.557426782563, and the loss is: 101810.64935828025\n",
      "When time is : 300, get best_k: -33.03041270589553 best_b: -67.05742678256274, and the loss is: 89230.77311393025\n",
      "When time is : 350, get best_k: -29.888095512219692 best_b: -66.55742678256249, and the loss is: 77480.61526543433\n",
      "When time is : 400, get best_k: -26.745778318543856 best_b: -66.05742678256223, and the loss is: 66560.17581279286\n",
      "When time is : 450, get best_k: -23.60346112486802 best_b: -65.55742678256198, and the loss is: 56469.45475600568\n",
      "When time is : 500, get best_k: -20.461143931192183 best_b: -65.05742678256172, and the loss is: 47208.45209507279\n",
      "When time is : 550, get best_k: -17.318826737516346 best_b: -64.55742678256146, and the loss is: 38777.16782999425\n",
      "When time is : 600, get best_k: -14.176509543840456 best_b: -64.05742678256121, and the loss is: 31175.60196076981\n",
      "When time is : 650, get best_k: -11.034192350164531 best_b: -63.55742678256127, and the loss is: 24403.75448739974\n",
      "When time is : 700, get best_k: -7.891875156488608 best_b: -63.05742678256137, and the loss is: 18461.625409883993\n",
      "When time is : 750, get best_k: -4.749557962812727 best_b: -62.55742678256147, and the loss is: 13349.214728222645\n",
      "When time is : 800, get best_k: -1.60724076913683 best_b: -62.05742678256157, and the loss is: 9066.522442415562\n",
      "When time is : 850, get best_k: 1.5350764245390622 best_b: -61.55742678256167, and the loss is: 5613.5485524627675\n",
      "When time is : 900, get best_k: 4.677393618214959 best_b: -61.05742678256177, and the loss is: 2990.2930583642747\n",
      "When time is : 950, get best_k: 7.81971081189084 best_b: -60.55742678256187, and the loss is: 1196.755960120077\n",
      "When time is : 1000, get best_k: 10.932720535211017 best_b: -60.06141887742357, and the loss is: 238.07468674423916\n",
      "When time is : 1050, get best_k: 12.933178242720897 best_b: -59.7366757944196, and the loss is: 51.81037238071554\n"
     ]
    }
   ],
   "source": [
    "trying_times = 2000  \n",
    "\n",
    "X, y = data['data'], data['target']\n",
    "\n",
    "min_loss = float('inf') \n",
    "\n",
    "current_k = random.random() * 200 - 100   # 初始化是一个研究的点，损失函数如何定义也是一个研究的点\n",
    "current_b = random.random() * 200 - 100\n",
    "\n",
    "learning_rate = 1e-02  #学习率是需要调参的\n",
    "\n",
    "update_time = 0\n",
    "for i in range(trying_times):\n",
    "    price_by_k_and_b = [price(r, current_k, current_b) for r in X_rm]   # 由当前的k和b得到的预测值\n",
    "    current_loss = loss(y, price_by_k_and_b)     # 当前预测值与实际值的误差\n",
    "    if current_loss < min_loss: # performance became better\n",
    "        min_loss = current_loss\n",
    "        best_k, best_b = current_k, current_b\n",
    "        if i % 50 == 0: \n",
    "            print('When time is : {}, get best_k: {} best_b: {}, and the loss is: {}'.format(i, best_k, best_b, min_loss))\n",
    "    \n",
    "    # 梯度下降\n",
    "    k_gradient = partial_k(X_rm, y, price_by_k_and_b) # 对k求导的值\n",
    "    b_gradient = partial_b(X_rm, y, price_by_k_and_b) # 对b求导的值\n",
    "    # 更新下一轮的k,b值了\n",
    "    current_k = current_k + (-1 * k_gradient) * learning_rate  \n",
    "    current_b = current_b + (-1 * b_gradient) * learning_rate"
   ]
  },
  {
   "cell_type": "code",
   "execution_count": 23,
   "metadata": {},
   "outputs": [
    {
     "data": {
      "text/plain": [
       "<matplotlib.collections.PathCollection at 0x2c3b2e9d780>"
      ]
     },
     "execution_count": 23,
     "metadata": {},
     "output_type": "execute_result"
    },
    {
     "name": "stderr",
     "output_type": "stream",
     "text": [
      "C:\\Users\\DELL\\Anaconda3\\lib\\site-packages\\matplotlib\\backends\\backend_agg.py:211: RuntimeWarning: Glyph 8722 missing from current font.\n",
      "  font.set_text(s, 0.0, flags=flags)\n",
      "C:\\Users\\DELL\\Anaconda3\\lib\\site-packages\\matplotlib\\backends\\backend_agg.py:180: RuntimeWarning: Glyph 8722 missing from current font.\n",
      "  font.set_text(s, 0, flags=flags)\n"
     ]
    },
    {
     "data": {
      "image/png": "[encoded data removed]",
      "text/plain": [
       "<Figure size 432x288 with 1 Axes>"
      ]
     },
     "metadata": {
      "needs_background": "light"
     },
     "output_type": "display_data"
    }
   ],
   "source": [
    "price_by_best_k_and_b = [price(r, best_k, best_b) for r in X_rm]\n",
    "\n",
    "draw_rm_and_price()\n",
    "plt.scatter(X_rm, price_by_best_k_and_b)"
   ]
  },
  {
   "cell_type": "code",
   "execution_count": null,
   "metadata": {},
   "outputs": [],
   "source": []
  },
  {
   "cell_type": "code",
   "execution_count": null,
   "metadata": {},
   "outputs": [],
   "source": []
  },
  {
   "cell_type": "markdown",
   "metadata": {},
   "source": [
    "# Part 3: Finish the Solution Parse Part of Edit-Distance"
   ]
  },
  {
   "cell_type": "code",
   "execution_count": 26,
   "metadata": {},
   "outputs": [],
   "source": [
    "import functools"
   ]
  },
  {
   "cell_type": "code",
   "execution_count": 42,
   "metadata": {},
   "outputs": [],
   "source": [
    "solution = {}  # 记录插入删除替换的过程"
   ]
  },
  {
   "cell_type": "code",
   "execution_count": 43,
   "metadata": {},
   "outputs": [],
   "source": [
    "@functools.lru_cache(maxsize=2**10)  # 用来做缓存，他能把相对耗时的函数结果进行保存，避免传入相同的参数重复计算\n",
    "def edit_distance(string1, string2):  # 递归函数,返回的int表示距离\n",
    "    if len(string1) == 0: return len(string2)\n",
    "    if len(string2) == 0: return len(string1)\n",
    "    \n",
    "    tail_s1 = string1[-1]\n",
    "    tail_s2 = string2[-1]\n",
    "    \n",
    "    candidates = [  # 记录一步操作是删除还是插入\n",
    "        (edit_distance(string1[:-1], string2) + 1, 'DEL {}'.format(tail_s1)),  # string 1 delete tail\n",
    "        (edit_distance(string1, string2[:-1]) + 1, 'ADD {}'.format(tail_s2)),  # string 1 add tail of string2\n",
    "    ]\n",
    "    \n",
    "    if tail_s1 == tail_s2:  # 最后一个字符相同\n",
    "        both_forward = (edit_distance(string1[:-1], string2[:-1]) + 0, '')  # 直接去掉最后一个字符,距离不增加\n",
    "    else:\n",
    "        both_forward = (edit_distance(string1[:-1], string2[:-1]) + 1, 'SUB {} => {}'.format(tail_s1, tail_s2))  # 最后一个字符替换成相同的\n",
    "    \n",
    "    candidates.append(both_forward)\n",
    "    \n",
    "    min_distance, operation = min(candidates, key=lambda x: x[0])\n",
    "    \n",
    "    solution[(string1, string2)] = operation \n",
    "    \n",
    "    return min_distance"
   ]
  },
  {
   "cell_type": "code",
   "execution_count": 49,
   "metadata": {},
   "outputs": [
    {
     "data": {
      "text/plain": [
       "2"
      ]
     },
     "execution_count": 49,
     "metadata": {},
     "output_type": "execute_result"
    }
   ],
   "source": [
    "edit_distance('ABCDE', 'ABCCEF')"
   ]
  },
  {
   "cell_type": "code",
   "execution_count": 50,
   "metadata": {},
   "outputs": [
    {
     "data": {
      "text/plain": [
       "{('A', 'A'): '',\n",
       " ('A', 'AB'): 'ADD B',\n",
       " ('A', 'ABC'): 'ADD C',\n",
       " ('A', 'ABCC'): 'ADD C',\n",
       " ('A', 'ABCCE'): 'ADD E',\n",
       " ('A', 'ABCCEF'): 'ADD F',\n",
       " ('AB', 'A'): 'DEL B',\n",
       " ('AB', 'AB'): '',\n",
       " ('AB', 'ABC'): 'ADD C',\n",
       " ('AB', 'ABCC'): 'ADD C',\n",
       " ('AB', 'ABCCE'): 'ADD E',\n",
       " ('AB', 'ABCCEF'): 'ADD F',\n",
       " ('ABC', 'A'): 'DEL C',\n",
       " ('ABC', 'AB'): 'DEL C',\n",
       " ('ABC', 'ABC'): '',\n",
       " ('ABC', 'ABCC'): 'ADD C',\n",
       " ('ABC', 'ABCCE'): 'ADD E',\n",
       " ('ABC', 'ABCCEF'): 'ADD F',\n",
       " ('ABCD', 'A'): 'DEL D',\n",
       " ('ABCD', 'AB'): 'DEL D',\n",
       " ('ABCD', 'ABC'): 'DEL D',\n",
       " ('ABCD', 'ABCC'): 'SUB D => C',\n",
       " ('ABCD', 'ABCCE'): 'ADD E',\n",
       " ('ABCD', 'ABCCEF'): 'ADD F',\n",
       " ('ABCDE', 'A'): 'DEL E',\n",
       " ('ABCDE', 'AB'): 'DEL E',\n",
       " ('ABCDE', 'ABC'): 'DEL E',\n",
       " ('ABCDE', 'ABCC'): 'DEL E',\n",
       " ('ABCDE', 'ABCCE'): '',\n",
       " ('ABCDE', 'ABCCEF'): 'ADD F'}"
      ]
     },
     "execution_count": 50,
     "metadata": {},
     "output_type": "execute_result"
    }
   ],
   "source": [
    "solution"
   ]
  },
  {
   "cell_type": "code",
   "execution_count": 51,
   "metadata": {},
   "outputs": [
    {
     "data": {
      "text/plain": [
       "dict_keys([('A', 'A'), ('A', 'AB'), ('A', 'ABC'), ('A', 'ABCC'), ('A', 'ABCCE'), ('A', 'ABCCEF'), ('AB', 'A'), ('AB', 'AB'), ('AB', 'ABC'), ('AB', 'ABCC'), ('AB', 'ABCCE'), ('AB', 'ABCCEF'), ('ABC', 'A'), ('ABC', 'AB'), ('ABC', 'ABC'), ('ABC', 'ABCC'), ('ABC', 'ABCCE'), ('ABC', 'ABCCEF'), ('ABCD', 'A'), ('ABCD', 'AB'), ('ABCD', 'ABC'), ('ABCD', 'ABCC'), ('ABCD', 'ABCCE'), ('ABCD', 'ABCCEF'), ('ABCDE', 'A'), ('ABCDE', 'AB'), ('ABCDE', 'ABC'), ('ABCDE', 'ABCC'), ('ABCDE', 'ABCCE'), ('ABCDE', 'ABCCEF')])"
      ]
     },
     "execution_count": 51,
     "metadata": {},
     "output_type": "execute_result"
    }
   ],
   "source": [
    "solution.keys()"
   ]
  },
  {
   "cell_type": "code",
   "execution_count": 57,
   "metadata": {},
   "outputs": [],
   "source": [
    "parse={}\n",
    "\n",
    "def parse_solution():\n",
    "    keys = list(solution.keys())\n",
    "    i = -1\n",
    "    while i>= -len(solution):\n",
    "        #print(1)\n",
    "        if 'SUB' in solution[keys[i]].split(' ') or not solution[keys[i]]:\n",
    "            \n",
    "            parse[keys[i]]=solution[keys[i]]\n",
    "            (string1,string2)=(keys[i][0][:-1], keys[i][1][:-1])\n",
    "            if not string1 or not string2:\n",
    "                break\n",
    "            index = keys.index((string1,string2))  \n",
    "            i=index-len(solution)\n",
    "        else:\n",
    "            parse[keys[i]]=solution[keys[i]]\n",
    "            i=i-1"
   ]
  },
  {
   "cell_type": "code",
   "execution_count": 58,
   "metadata": {},
   "outputs": [],
   "source": [
    "parse_solution()"
   ]
  },
  {
   "cell_type": "code",
   "execution_count": 59,
   "metadata": {},
   "outputs": [
    {
     "data": {
      "text/plain": [
       "{('ABCDE', 'ABCCEF'): 'ADD F',\n",
       " ('ABCDE', 'ABCCE'): '',\n",
       " ('ABCD', 'ABCC'): 'SUB D => C',\n",
       " ('ABC', 'ABC'): '',\n",
       " ('AB', 'AB'): '',\n",
       " ('A', 'A'): ''}"
      ]
     },
     "execution_count": 59,
     "metadata": {},
     "output_type": "execute_result"
    }
   ],
   "source": [
    "parse"
   ]
  },
  {
   "cell_type": "code",
   "execution_count": null,
   "metadata": {},
   "outputs": [],
   "source": []
  }
 ],
 "metadata": {
  "kernelspec": {
   "display_name": "Python 3",
   "language": "python",
   "name": "python3"
  },
  "language_info": {
   "codemirror_mode": {
    "name": "ipython",
    "version": 3
   },
   "file_extension": ".py",
   "mimetype": "text/x-python",
   "name": "python",
   "nbconvert_exporter": "python",
   "pygments_lexer": "ipython3",
   "version": "3.7.3"
  }
 },
 "nbformat": 4,
 "nbformat_minor": 2
}
